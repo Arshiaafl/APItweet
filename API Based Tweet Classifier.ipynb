{
 "cells": [
  {
   "cell_type": "code",
   "execution_count": 4,
   "id": "5b2a8ba5",
   "metadata": {},
   "outputs": [],
   "source": [
    "from fastapi import FastAPI, HTTPException\n",
    "from pydantic import BaseModel\n",
    "from typing import List\n",
    "from tensorflow.keras.models import load_model\n",
    "from tensorflow.keras.preprocessing.sequence import pad_sequences\n",
    "import numpy as np\n",
    "import joblib\n",
    "\n",
    "# Load the trained model\n",
    "model = load_model('trained_model.h5')\n",
    "\n",
    "# Load the Tokenizer and LabelEncoder\n",
    "with open('tokenizer.pkl', 'rb') as tokenizer_file:\n",
    "    tokenizer = joblib.load(tokenizer_file)\n",
    "\n",
    "with open('label_encoder.pkl', 'rb') as label_encoder_file:\n",
    "    label_encoder = joblib.load(label_encoder_file)\n",
    "\n",
    "app = FastAPI()\n",
    "\n",
    "class PredictionInput(BaseModel):\n",
    "    text: List[str]\n",
    "\n",
    "@app.post(\"/predict\")\n",
    "async def predict(data: PredictionInput):\n",
    "    try:\n",
    "        # Tokenize and pad the input text\n",
    "        text_sequences = tokenizer.texts_to_sequences(data.text)\n",
    "        padded_sequences = pad_sequences(text_sequences, padding='post', maxlen=model.input_shape[1])\n",
    "\n",
    "        # Make predictions using the trained model\n",
    "        predictions = model.predict(padded_sequences)\n",
    "        predicted_labels = np.argmax(predictions, axis=1)\n",
    "\n",
    "        # Convert numerical labels back to original text labels\n",
    "        predicted_emotions = label_encoder.inverse_transform(predicted_labels)\n",
    "\n",
    "        return {\"predictions\": predicted_emotions.tolist()}\n",
    "    except Exception as e:\n",
    "        raise HTTPException(status_code=500, detail=f\"Prediction error: {str(e)}\")\n"
   ]
  }
 ],
 "metadata": {
  "kernelspec": {
   "display_name": "Python 3 (ipykernel)",
   "language": "python",
   "name": "python3"
  },
  "language_info": {
   "codemirror_mode": {
    "name": "ipython",
    "version": 3
   },
   "file_extension": ".py",
   "mimetype": "text/x-python",
   "name": "python",
   "nbconvert_exporter": "python",
   "pygments_lexer": "ipython3",
   "version": "3.9.13"
  }
 },
 "nbformat": 4,
 "nbformat_minor": 5
}
